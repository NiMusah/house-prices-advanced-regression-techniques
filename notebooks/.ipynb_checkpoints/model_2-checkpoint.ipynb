{
 "cells": [
  {
   "cell_type": "code",
   "execution_count": 1,
   "id": "cc6c0d74",
   "metadata": {},
   "outputs": [],
   "source": [
    "#Relevant libraries\n",
    "import pandas as pd\n",
    "from pathlib import Path\n",
    "\n",
    "\n",
    "#Data Extraction\n",
    "WORKING_DIRECTORY = Path.cwd()\n",
    "DATA_DIRECTORY = \"D:/PROJECTS/house-prices-advanced-regression-techniques/data\"\n",
    "\n",
    "train_df = pd.read_csv(\"D:/PROJECTS/house-prices-advanced-regression-techniques/data/train.csv\")\n",
    "test_df = pd.read_csv(\"D:/PROJECTS/house-prices-advanced-regression-techniques/data/test.csv\")"
   ]
  },
  {
   "cell_type": "code",
   "execution_count": 2,
   "id": "f88ab31e",
   "metadata": {},
   "outputs": [],
   "source": [
    "# Drop the 'Id' column to avoid generalization, it does not necessarily influence house prices and it is also too specific\n",
    "train_df= train_df.drop(['Id'], axis= 1)\n",
    "test_df= test_df.drop(['Id'], axis= 1)\n",
    "\n",
    "#Generate the X_train, y_train and X_test subsets\n",
    "X_train_full = train_df.drop(['SalePrice'], axis = 1)\n",
    "y_train_full = train_df['SalePrice']\n",
    "X_test_full = test_df.copy()"
   ]
  },
  {
   "cell_type": "code",
   "execution_count": 3,
   "id": "9bb42afe",
   "metadata": {},
   "outputs": [],
   "source": [
    "# Get list of categorical variables- X_train\n",
    "s_train = (X_train_full.dtypes == 'object')\n",
    "train_object_cols = list(s_train[s_train].index)\n",
    "\n",
    "\n",
    "# Get list of categorical variables- X_test\n",
    "s_test = (X_test_full.dtypes == 'object')\n",
    "test_object_cols = list(s_test[s_test].index)"
   ]
  },
  {
   "cell_type": "markdown",
   "id": "56a213b7",
   "metadata": {},
   "source": [
    "Categorical Variable Processing: One Hot Encoding"
   ]
  },
  {
   "cell_type": "code",
   "execution_count": 4,
   "id": "d354b220",
   "metadata": {},
   "outputs": [],
   "source": [
    "from sklearn.preprocessing import OneHotEncoder\n",
    "\n",
    "# Apply one-hot encoder to each column with categorical data\n",
    "OH_encoder = OneHotEncoder(handle_unknown='ignore', sparse=False)\n",
    "OH_cols_train = pd.DataFrame(OH_encoder.fit_transform(X_train_full[train_object_cols]))\n",
    "OH_cols_test = pd.DataFrame(OH_encoder.transform(X_test_full[test_object_cols]))\n",
    "\n",
    "# One-hot encoding removed index; put it back\n",
    "OH_cols_train.index = X_train_full.index\n",
    "OH_cols_test.index = X_test_full.index\n",
    "\n",
    "# Remove categorical columns (will replace with one-hot encoding)\n",
    "num_X_train = X_train_full.drop(train_object_cols, axis=1)\n",
    "num_X_test = X_test_full.drop(test_object_cols, axis=1)\n",
    "\n",
    "# Add one-hot encoded columns to numerical features\n",
    "OH_X_train = pd.concat([num_X_train, OH_cols_train], axis=1)\n",
    "OH_X_test = pd.concat([num_X_test, OH_cols_test], axis=1)"
   ]
  },
  {
   "cell_type": "markdown",
   "id": "59343112",
   "metadata": {},
   "source": [
    "Missing Values: Imputation"
   ]
  },
  {
   "cell_type": "code",
   "execution_count": 5,
   "id": "40c403ce",
   "metadata": {},
   "outputs": [
    {
     "name": "stderr",
     "output_type": "stream",
     "text": [
      "C:\\Users\\Pathways-3\\AppData\\Roaming\\Python\\Python39\\site-packages\\sklearn\\utils\\validation.py:1673: FutureWarning: Feature names only support names that are all strings. Got feature names with dtypes: ['int', 'str']. An error will be raised in 1.2.\n",
      "  warnings.warn(\n",
      "C:\\Users\\Pathways-3\\AppData\\Roaming\\Python\\Python39\\site-packages\\sklearn\\utils\\validation.py:1673: FutureWarning: Feature names only support names that are all strings. Got feature names with dtypes: ['int', 'str']. An error will be raised in 1.2.\n",
      "  warnings.warn(\n",
      "C:\\Users\\Pathways-3\\AppData\\Roaming\\Python\\Python39\\site-packages\\sklearn\\utils\\validation.py:1673: FutureWarning: Feature names only support names that are all strings. Got feature names with dtypes: ['int', 'str']. An error will be raised in 1.2.\n",
      "  warnings.warn(\n"
     ]
    }
   ],
   "source": [
    "from sklearn.impute import SimpleImputer\n",
    "\n",
    "# Imputation\n",
    "my_imputer = SimpleImputer(strategy= 'constant')\n",
    "imputed_X_train = pd.DataFrame(my_imputer.fit_transform(OH_X_train))\n",
    "imputed_X_test = pd.DataFrame(my_imputer.transform(OH_X_test))\n",
    "\n",
    "# Imputation removed column names; put them back\n",
    "imputed_X_train.columns = OH_X_train.columns\n",
    "imputed_X_test.columns = OH_X_test.columns"
   ]
  },
  {
   "cell_type": "markdown",
   "id": "ca81cb8c",
   "metadata": {},
   "source": [
    "Model building and Testing"
   ]
  },
  {
   "cell_type": "code",
   "execution_count": 7,
   "id": "b13ff932",
   "metadata": {},
   "outputs": [
    {
     "name": "stderr",
     "output_type": "stream",
     "text": [
      "C:\\Users\\Pathways-3\\AppData\\Roaming\\Python\\Python39\\site-packages\\sklearn\\utils\\validation.py:1673: FutureWarning: Feature names only support names that are all strings. Got feature names with dtypes: ['int', 'str']. An error will be raised in 1.2.\n",
      "  warnings.warn(\n"
     ]
    },
    {
     "name": "stdout",
     "output_type": "stream",
     "text": [
      "93.32 %\n"
     ]
    },
    {
     "name": "stderr",
     "output_type": "stream",
     "text": [
      "C:\\Users\\Pathways-3\\AppData\\Roaming\\Python\\Python39\\site-packages\\sklearn\\utils\\validation.py:1673: FutureWarning: Feature names only support names that are all strings. Got feature names with dtypes: ['int', 'str']. An error will be raised in 1.2.\n",
      "  warnings.warn(\n",
      "C:\\Users\\Pathways-3\\AppData\\Roaming\\Python\\Python39\\site-packages\\sklearn\\utils\\validation.py:1673: FutureWarning: Feature names only support names that are all strings. Got feature names with dtypes: ['int', 'str']. An error will be raised in 1.2.\n",
      "  warnings.warn(\n"
     ]
    }
   ],
   "source": [
    "from sklearn import linear_model\n",
    "model=  linear_model.LinearRegression()\n",
    "\n",
    "# Preprocessing of training data, fit model \n",
    "model.fit(imputed_X_train, y_train_full)\n",
    "\n",
    "# Preprocessing of validation data, get predictions\n",
    "preds = model.predict(imputed_X_test)\n",
    "\n",
    "# Evaluate the model\n",
    "model_assessment= model.score(imputed_X_train, y_train_full)\n",
    "acc_random_forest = round(model_assessment*100, 2)\n",
    "print(round(acc_random_forest,2,), \"%\")"
   ]
  },
  {
   "cell_type": "code",
   "execution_count": null,
   "id": "c0778dae",
   "metadata": {},
   "outputs": [],
   "source": []
  }
 ],
 "metadata": {
  "kernelspec": {
   "display_name": "Python 3 (ipykernel)",
   "language": "python",
   "name": "python3"
  },
  "language_info": {
   "codemirror_mode": {
    "name": "ipython",
    "version": 3
   },
   "file_extension": ".py",
   "mimetype": "text/x-python",
   "name": "python",
   "nbconvert_exporter": "python",
   "pygments_lexer": "ipython3",
   "version": "3.9.6"
  }
 },
 "nbformat": 4,
 "nbformat_minor": 5
}
