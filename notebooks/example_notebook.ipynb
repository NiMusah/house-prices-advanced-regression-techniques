{
 "cells": [
  {
   "cell_type": "markdown",
   "id": "b7cbee14",
   "metadata": {},
   "source": [
    "A couple of relevant modules"
   ]
  },
  {
   "cell_type": "code",
   "execution_count": 1,
   "id": "39e9a6b8",
   "metadata": {},
   "outputs": [],
   "source": [
    "import pandas as pd\n",
    "from pathlib import Path"
   ]
  },
  {
   "cell_type": "code",
   "execution_count": 7,
   "id": "9d661e94",
   "metadata": {},
   "outputs": [
    {
     "data": {
      "text/plain": [
       "WindowsPath('D:/PROJECTS/house-prices-advanced-regression-techniques/notebooks')"
      ]
     },
     "execution_count": 7,
     "metadata": {},
     "output_type": "execute_result"
    }
   ],
   "source": [
    "WORKING_DIRECTORY = Path.cwd()\n",
    "WORKING_DIRECTORY\n"
   ]
  },
  {
   "cell_type": "code",
   "execution_count": 8,
   "id": "0b04913e",
   "metadata": {},
   "outputs": [
    {
     "data": {
      "text/plain": [
       "'D:/PROJECTS/house-prices-advanced-regression-techniques/data'"
      ]
     },
     "execution_count": 8,
     "metadata": {},
     "output_type": "execute_result"
    }
   ],
   "source": [
    "DATA_DIRECTORY = \"D:/PROJECTS/house-prices-advanced-regression-techniques/data\"\n",
    "DATA_DIRECTORY"
   ]
  },
  {
   "cell_type": "code",
   "execution_count": null,
   "id": "f830ff81",
   "metadata": {},
   "outputs": [],
   "source": []
  }
 ],
 "metadata": {
  "kernelspec": {
   "display_name": "Python 3 (ipykernel)",
   "language": "python",
   "name": "python3"
  },
  "language_info": {
   "codemirror_mode": {
    "name": "ipython",
    "version": 3
   },
   "file_extension": ".py",
   "mimetype": "text/x-python",
   "name": "python",
   "nbconvert_exporter": "python",
   "pygments_lexer": "ipython3",
   "version": "3.9.6"
  }
 },
 "nbformat": 4,
 "nbformat_minor": 5
}
